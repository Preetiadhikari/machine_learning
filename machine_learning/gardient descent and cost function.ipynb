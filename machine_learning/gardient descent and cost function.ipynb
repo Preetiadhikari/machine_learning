{
 "cells": [
  {
   "cell_type": "code",
   "execution_count": 1,
   "id": "857492b4",
   "metadata": {},
   "outputs": [],
   "source": [
    "import numpy as np"
   ]
  },
  {
   "cell_type": "code",
   "execution_count": 2,
   "id": "a40fb8e7",
   "metadata": {},
   "outputs": [],
   "source": [
    "def gradient_descent(x, y):\n",
    "    m_curr = b_curr = 0\n",
    "    iteration = 1000\n",
    "    n = len(x)\n",
    "    learning_rate = 0.001\n",
    "\n",
    "    for i in range(iteration):\n",
    "        y_pred = m_curr*x+b_curr\n",
    "        cost=(1/n)*sum([val**2 for val in (y-Y_predicated)])\n",
    "        md = -(2/n)*sum(x*(y-y_pred))\n",
    "        bd = -(2/n)*sum(y-y_pred)\n",
    "        m_curr = m_curr-learning_rate*md\n",
    "        b_curr = b_curr-learning_rate*bd\n",
    "        print(\"m {},b {},iteration{}\".format(m_curr, b_curr, i))\n",
    "\n",
    "\n",
    "x = np.array([1, 2, 3, 4, 5])\n",
    "y = np.array([5, 7, 9, 11, 13])\n"
   ]
  },
  {
   "cell_type": "code",
   "execution_count": null,
   "id": "4982deaa",
   "metadata": {},
   "outputs": [],
   "source": []
  }
 ],
 "metadata": {
  "kernelspec": {
   "display_name": "Python 3 (ipykernel)",
   "language": "python",
   "name": "python3"
  },
  "language_info": {
   "codemirror_mode": {
    "name": "ipython",
    "version": 3
   },
   "file_extension": ".py",
   "mimetype": "text/x-python",
   "name": "python",
   "nbconvert_exporter": "python",
   "pygments_lexer": "ipython3",
   "version": "3.10.4"
  }
 },
 "nbformat": 4,
 "nbformat_minor": 5
}
